{
 "cells": [
  {
   "cell_type": "markdown",
   "id": "square-panel",
   "metadata": {},
   "source": [
    "## Package import statements only"
   ]
  },
  {
   "cell_type": "code",
   "execution_count": 132,
   "id": "wooden-basic",
   "metadata": {},
   "outputs": [],
   "source": [
    "import pandas as pd\n",
    "import matplotlib.pyplot as plt\n",
    "import seaborn as sns\n",
    "import numpy as np\n",
    "from datetime import date\n",
    "\n",
    "from   scipy.optimize import curve_fit\n",
    "from   sklearn.linear_model import LinearRegression\n",
    "\n",
    "\n",
    "%matplotlib inline"
   ]
  },
  {
   "cell_type": "markdown",
   "id": "sophisticated-actress",
   "metadata": {},
   "source": [
    "## File imports only"
   ]
  },
  {
   "cell_type": "code",
   "execution_count": 133,
   "id": "continuous-wealth",
   "metadata": {},
   "outputs": [],
   "source": [
    "og_county_covid_df = pd.read_csv('/Users/josephgreene/Library/CloudStorage/Box-Box/project_county_covid_data')\n",
    "og_county_internet_df = pd.read_csv('/Users/josephgreene/GitHub/INFO2950Project/project_county_internet_data')"
   ]
  },
  {
   "cell_type": "markdown",
   "id": "circular-recognition",
   "metadata": {},
   "source": [
    "### DF resets"
   ]
  },
  {
   "cell_type": "code",
   "execution_count": 134,
   "id": "sought-regulation",
   "metadata": {},
   "outputs": [],
   "source": [
    "county_covid_df = og_county_covid_df.copy()\n",
    "county_internet_df = og_county_internet_df.copy()"
   ]
  },
  {
   "cell_type": "markdown",
   "id": "realistic-conditions",
   "metadata": {},
   "source": [
    "# County Level\n",
    "\n",
    "## Classification prediction model: Covid response grade and Internet access grade\n",
    "1. Qcut the data\n",
    "    - Qcut death_rate into bins\n",
    "    - Qcut internet (create formula for internet access to account for avg. speed, # providers @ high//low speeds\n",
    "2. Turn gradings into dummy col. (use OneHotEncoder)\n",
    "3. Classification prediction\n",
    "    - \n",
    "\n",
    "### Significance test: Bootstraps\n",
    "\n",
    "## Linear regression model: Death rate and Average internet speed\n",
    "1. Do linear regression model (linear)\n",
    "    - drop nans (death_rate and avg mbps)\n",
    "    - create LinearRegression obj.\n",
    "    - fit data\n",
    "    \n",
    "2. Do non-linear (ex decay?) model\n",
    "    - get log of death rate\n",
    "    - create linearRegression on x(avg mbps) and y(log(death_rate))\n",
    "\n",
    "\n",
    "### Significant test: Permutations w/ 95% CI"
   ]
  },
  {
   "cell_type": "markdown",
   "id": "consolidated-welding",
   "metadata": {},
   "source": [
    "# County Level"
   ]
  },
  {
   "cell_type": "markdown",
   "id": "developed-rescue",
   "metadata": {},
   "source": [
    "## Linear Regression Model"
   ]
  },
  {
   "cell_type": "code",
   "execution_count": 135,
   "id": "included-barrel",
   "metadata": {
    "tags": []
   },
   "outputs": [],
   "source": [
    "# Cleaning the county (covid) data\n",
    "\n",
    "county_covid_df['date'] = pd.to_datetime(county_covid_df['date'])\n",
    "county_covid_df.drop(columns='Unnamed: 0',inplace=True)\n",
    "current_covid = county_covid_df.loc[county_covid_df.date == county_covid_df.date.max()].copy()\n",
    "current_covid['death_rate'] = current_covid['tot_deaths'] / current_covid['tot_cases']\n",
    "current_covid.drop(columns=[\n",
    "    'cases',\n",
    "    'cases_avg',\n",
    "#     'cases_avg_per_100k',\n",
    "    'deaths',\n",
    "    'deaths_avg',\n",
    "#     'deaths_avg_per_100k'\n",
    "],inplace=True)"
   ]
  },
  {
   "cell_type": "code",
   "execution_count": 142,
   "id": "threaded-matter",
   "metadata": {},
   "outputs": [
    {
     "name": "stdout",
     "output_type": "stream",
     "text": [
      "(3249, 14)\n"
     ]
    }
   ],
   "source": [
    "# county_df is the most recent Covid data merged with internet data by county\n",
    "\n",
    "county_df = pd.merge(current_covid,county_internet_df,on='fips_code',how='left')\n",
    "print(county_df.shape)"
   ]
  },
  {
   "cell_type": "code",
   "execution_count": 143,
   "id": "senior-anthony",
   "metadata": {},
   "outputs": [
    {
     "data": {
      "text/plain": [
       "3249"
      ]
     },
     "execution_count": 143,
     "metadata": {},
     "output_type": "execute_result"
    }
   ],
   "source": [
    "county_df.fips_code.size"
   ]
  },
  {
   "cell_type": "code",
   "execution_count": 144,
   "id": "failing-sending",
   "metadata": {},
   "outputs": [
    {
     "data": {
      "text/html": [
       "<div>\n",
       "<style scoped>\n",
       "    .dataframe tbody tr th:only-of-type {\n",
       "        vertical-align: middle;\n",
       "    }\n",
       "\n",
       "    .dataframe tbody tr th {\n",
       "        vertical-align: top;\n",
       "    }\n",
       "\n",
       "    .dataframe thead th {\n",
       "        text-align: right;\n",
       "    }\n",
       "</style>\n",
       "<table border=\"1\" class=\"dataframe\">\n",
       "  <thead>\n",
       "    <tr style=\"text-align: right;\">\n",
       "      <th></th>\n",
       "      <th>date</th>\n",
       "      <th>county</th>\n",
       "      <th>state</th>\n",
       "      <th>cases_avg_per_100k</th>\n",
       "      <th>deaths_avg_per_100k</th>\n",
       "      <th>tot_deaths</th>\n",
       "      <th>tot_cases</th>\n",
       "      <th>death_rate</th>\n",
       "      <th>fips_code</th>\n",
       "      <th>dr_rating</th>\n",
       "      <th>AverageMbps</th>\n",
       "      <th>FastestAverageMbps</th>\n",
       "      <th>avg_mbps_rating</th>\n",
       "      <th>fast_mbps_rating</th>\n",
       "    </tr>\n",
       "  </thead>\n",
       "  <tbody>\n",
       "    <tr>\n",
       "      <th>0</th>\n",
       "      <td>2021-11-17</td>\n",
       "      <td>Magoffin</td>\n",
       "      <td>Kentucky</td>\n",
       "      <td>108.07</td>\n",
       "      <td>0.00</td>\n",
       "      <td>23</td>\n",
       "      <td>2338</td>\n",
       "      <td>0.009837</td>\n",
       "      <td>21153</td>\n",
       "      <td>1.0</td>\n",
       "      <td>38.095000</td>\n",
       "      <td>89.645000</td>\n",
       "      <td>3.0</td>\n",
       "      <td>3.0</td>\n",
       "    </tr>\n",
       "    <tr>\n",
       "      <th>1</th>\n",
       "      <td>2021-11-17</td>\n",
       "      <td>McLean</td>\n",
       "      <td>Kentucky</td>\n",
       "      <td>31.03</td>\n",
       "      <td>1.55</td>\n",
       "      <td>345</td>\n",
       "      <td>27627</td>\n",
       "      <td>0.012488</td>\n",
       "      <td>21149</td>\n",
       "      <td>1.0</td>\n",
       "      <td>139.460000</td>\n",
       "      <td>287.635000</td>\n",
       "      <td>5.0</td>\n",
       "      <td>5.0</td>\n",
       "    </tr>\n",
       "    <tr>\n",
       "      <th>2</th>\n",
       "      <td>2021-11-17</td>\n",
       "      <td>McCreary</td>\n",
       "      <td>Kentucky</td>\n",
       "      <td>32.33</td>\n",
       "      <td>0.00</td>\n",
       "      <td>59</td>\n",
       "      <td>3843</td>\n",
       "      <td>0.015353</td>\n",
       "      <td>21147</td>\n",
       "      <td>2.0</td>\n",
       "      <td>106.620000</td>\n",
       "      <td>165.947500</td>\n",
       "      <td>5.0</td>\n",
       "      <td>5.0</td>\n",
       "    </tr>\n",
       "    <tr>\n",
       "      <th>3</th>\n",
       "      <td>2021-11-17</td>\n",
       "      <td>McCracken</td>\n",
       "      <td>Kentucky</td>\n",
       "      <td>20.31</td>\n",
       "      <td>0.22</td>\n",
       "      <td>181</td>\n",
       "      <td>10416</td>\n",
       "      <td>0.017377</td>\n",
       "      <td>21145</td>\n",
       "      <td>3.0</td>\n",
       "      <td>76.820000</td>\n",
       "      <td>192.900000</td>\n",
       "      <td>5.0</td>\n",
       "      <td>5.0</td>\n",
       "    </tr>\n",
       "    <tr>\n",
       "      <th>4</th>\n",
       "      <td>2021-11-17</td>\n",
       "      <td>Mason</td>\n",
       "      <td>Kentucky</td>\n",
       "      <td>30.96</td>\n",
       "      <td>0.84</td>\n",
       "      <td>322</td>\n",
       "      <td>19109</td>\n",
       "      <td>0.016851</td>\n",
       "      <td>21161</td>\n",
       "      <td>2.0</td>\n",
       "      <td>27.895000</td>\n",
       "      <td>73.150000</td>\n",
       "      <td>2.0</td>\n",
       "      <td>2.0</td>\n",
       "    </tr>\n",
       "    <tr>\n",
       "      <th>...</th>\n",
       "      <td>...</td>\n",
       "      <td>...</td>\n",
       "      <td>...</td>\n",
       "      <td>...</td>\n",
       "      <td>...</td>\n",
       "      <td>...</td>\n",
       "      <td>...</td>\n",
       "      <td>...</td>\n",
       "      <td>...</td>\n",
       "      <td>...</td>\n",
       "      <td>...</td>\n",
       "      <td>...</td>\n",
       "      <td>...</td>\n",
       "      <td>...</td>\n",
       "    </tr>\n",
       "    <tr>\n",
       "      <th>3244</th>\n",
       "      <td>2021-11-17</td>\n",
       "      <td>Canadian</td>\n",
       "      <td>Oklahoma</td>\n",
       "      <td>19.84</td>\n",
       "      <td>0.00</td>\n",
       "      <td>295</td>\n",
       "      <td>23744</td>\n",
       "      <td>0.012424</td>\n",
       "      <td>40017</td>\n",
       "      <td>1.0</td>\n",
       "      <td>120.324286</td>\n",
       "      <td>269.862857</td>\n",
       "      <td>5.0</td>\n",
       "      <td>5.0</td>\n",
       "    </tr>\n",
       "    <tr>\n",
       "      <th>3245</th>\n",
       "      <td>2021-11-17</td>\n",
       "      <td>Caddo</td>\n",
       "      <td>Oklahoma</td>\n",
       "      <td>12.42</td>\n",
       "      <td>0.00</td>\n",
       "      <td>1107</td>\n",
       "      <td>45150</td>\n",
       "      <td>0.024518</td>\n",
       "      <td>40015</td>\n",
       "      <td>4.0</td>\n",
       "      <td>37.053333</td>\n",
       "      <td>66.921111</td>\n",
       "      <td>3.0</td>\n",
       "      <td>2.0</td>\n",
       "    </tr>\n",
       "    <tr>\n",
       "      <th>3246</th>\n",
       "      <td>2021-11-17</td>\n",
       "      <td>Bryan</td>\n",
       "      <td>Oklahoma</td>\n",
       "      <td>20.54</td>\n",
       "      <td>0.00</td>\n",
       "      <td>180</td>\n",
       "      <td>15443</td>\n",
       "      <td>0.011656</td>\n",
       "      <td>40013</td>\n",
       "      <td>1.0</td>\n",
       "      <td>20.000000</td>\n",
       "      <td>40.835000</td>\n",
       "      <td>1.0</td>\n",
       "      <td>1.0</td>\n",
       "    </tr>\n",
       "    <tr>\n",
       "      <th>3247</th>\n",
       "      <td>2021-11-17</td>\n",
       "      <td>Cotton</td>\n",
       "      <td>Oklahoma</td>\n",
       "      <td>27.73</td>\n",
       "      <td>0.00</td>\n",
       "      <td>23</td>\n",
       "      <td>1006</td>\n",
       "      <td>0.022863</td>\n",
       "      <td>40033</td>\n",
       "      <td>4.0</td>\n",
       "      <td>64.687500</td>\n",
       "      <td>152.905000</td>\n",
       "      <td>5.0</td>\n",
       "      <td>4.0</td>\n",
       "    </tr>\n",
       "    <tr>\n",
       "      <th>3248</th>\n",
       "      <td>2021-11-17</td>\n",
       "      <td>St. Croix</td>\n",
       "      <td>Virgin Islands</td>\n",
       "      <td>13.55</td>\n",
       "      <td>0.00</td>\n",
       "      <td>122</td>\n",
       "      <td>18234</td>\n",
       "      <td>0.006691</td>\n",
       "      <td>78010</td>\n",
       "      <td>0.0</td>\n",
       "      <td>NaN</td>\n",
       "      <td>NaN</td>\n",
       "      <td>NaN</td>\n",
       "      <td>NaN</td>\n",
       "    </tr>\n",
       "  </tbody>\n",
       "</table>\n",
       "<p>3249 rows × 14 columns</p>\n",
       "</div>"
      ],
      "text/plain": [
       "           date     county           state  cases_avg_per_100k  \\\n",
       "0    2021-11-17   Magoffin        Kentucky              108.07   \n",
       "1    2021-11-17     McLean        Kentucky               31.03   \n",
       "2    2021-11-17   McCreary        Kentucky               32.33   \n",
       "3    2021-11-17  McCracken        Kentucky               20.31   \n",
       "4    2021-11-17      Mason        Kentucky               30.96   \n",
       "...         ...        ...             ...                 ...   \n",
       "3244 2021-11-17   Canadian        Oklahoma               19.84   \n",
       "3245 2021-11-17      Caddo        Oklahoma               12.42   \n",
       "3246 2021-11-17      Bryan        Oklahoma               20.54   \n",
       "3247 2021-11-17     Cotton        Oklahoma               27.73   \n",
       "3248 2021-11-17  St. Croix  Virgin Islands               13.55   \n",
       "\n",
       "      deaths_avg_per_100k  tot_deaths  tot_cases  death_rate  fips_code  \\\n",
       "0                    0.00          23       2338    0.009837      21153   \n",
       "1                    1.55         345      27627    0.012488      21149   \n",
       "2                    0.00          59       3843    0.015353      21147   \n",
       "3                    0.22         181      10416    0.017377      21145   \n",
       "4                    0.84         322      19109    0.016851      21161   \n",
       "...                   ...         ...        ...         ...        ...   \n",
       "3244                 0.00         295      23744    0.012424      40017   \n",
       "3245                 0.00        1107      45150    0.024518      40015   \n",
       "3246                 0.00         180      15443    0.011656      40013   \n",
       "3247                 0.00          23       1006    0.022863      40033   \n",
       "3248                 0.00         122      18234    0.006691      78010   \n",
       "\n",
       "      dr_rating  AverageMbps  FastestAverageMbps  avg_mbps_rating  \\\n",
       "0           1.0    38.095000           89.645000              3.0   \n",
       "1           1.0   139.460000          287.635000              5.0   \n",
       "2           2.0   106.620000          165.947500              5.0   \n",
       "3           3.0    76.820000          192.900000              5.0   \n",
       "4           2.0    27.895000           73.150000              2.0   \n",
       "...         ...          ...                 ...              ...   \n",
       "3244        1.0   120.324286          269.862857              5.0   \n",
       "3245        4.0    37.053333           66.921111              3.0   \n",
       "3246        1.0    20.000000           40.835000              1.0   \n",
       "3247        4.0    64.687500          152.905000              5.0   \n",
       "3248        0.0          NaN                 NaN              NaN   \n",
       "\n",
       "      fast_mbps_rating  \n",
       "0                  3.0  \n",
       "1                  5.0  \n",
       "2                  5.0  \n",
       "3                  5.0  \n",
       "4                  2.0  \n",
       "...                ...  \n",
       "3244               5.0  \n",
       "3245               2.0  \n",
       "3246               1.0  \n",
       "3247               4.0  \n",
       "3248               NaN  \n",
       "\n",
       "[3249 rows x 14 columns]"
      ]
     },
     "execution_count": 144,
     "metadata": {},
     "output_type": "execute_result"
    }
   ],
   "source": [
    "county_df"
   ]
  },
  {
   "cell_type": "code",
   "execution_count": 172,
   "id": "advanced-purchase",
   "metadata": {},
   "outputs": [
    {
     "data": {
      "text/plain": [
       "<AxesSubplot:xlabel='AverageMbps', ylabel='death_rate'>"
      ]
     },
     "execution_count": 172,
     "metadata": {},
     "output_type": "execute_result"
    },
    {
     "data": {
      "image/png": "[encoded data removed]",
      "text/plain": [
       "<Figure size 432x288 with 1 Axes>"
      ]
     },
     "metadata": {
      "needs_background": "light"
     },
     "output_type": "display_data"
    }
   ],
   "source": [
    "sns.regplot(\n",
    "    x='AverageMbps',\n",
    "    y='death_rate',\n",
    "    data=county_df,\n",
    "    \n",
    ")"
   ]
  },
  {
   "cell_type": "code",
   "execution_count": 167,
   "id": "raised-coalition",
   "metadata": {},
   "outputs": [
    {
     "data": {
      "text/plain": [
       "<AxesSubplot:ylabel='Frequency'>"
      ]
     },
     "execution_count": 167,
     "metadata": {},
     "output_type": "execute_result"
    },
    {
     "data": {
      "image/png": "[encoded data removed]",
      "text/plain": [
       "<Figure size 432x288 with 1 Axes>"
      ]
     },
     "metadata": {
      "needs_background": "light"
     },
     "output_type": "display_data"
    }
   ],
   "source": [
    "county_df.dr_rating.plot.hist()"
   ]
  },
  {
   "cell_type": "code",
   "execution_count": 168,
   "id": "fifty-protein",
   "metadata": {},
   "outputs": [
    {
     "data": {
      "text/plain": [
       "<AxesSubplot:ylabel='Frequency'>"
      ]
     },
     "execution_count": 168,
     "metadata": {},
     "output_type": "execute_result"
    },
    {
     "data": {
      "image/png": "[encoded data removed]",
      "text/plain": [
       "<Figure size 432x288 with 1 Axes>"
      ]
     },
     "metadata": {
      "needs_background": "light"
     },
     "output_type": "display_data"
    }
   ],
   "source": [
    "county_internet_df.avg_mbps_rating.plot.hist()"
   ]
  }
 ],
 "metadata": {
  "kernelspec": {
   "display_name": "geoEnv",
   "language": "python",
   "name": "geoenv"
  },
  "language_info": {
   "codemirror_mode": {
    "name": "ipython",
    "version": 3
   },
   "file_extension": ".py",
   "mimetype": "text/x-python",
   "name": "python",
   "nbconvert_exporter": "python",
   "pygments_lexer": "ipython3",
   "version": "3.7.11"
  }
 },
 "nbformat": 4,
 "nbformat_minor": 5
}
