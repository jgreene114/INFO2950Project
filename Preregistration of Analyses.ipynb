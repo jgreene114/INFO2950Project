{
 "cells": [
  {
   "cell_type": "markdown",
   "id": "polish-barrel",
   "metadata": {},
   "source": [
    "# Analyses:\n",
    "---\n",
    "\n",
    "- What is the relationship between access to wifi and Covid transmission?\n",
    "\n",
    "- Did vaccinations or transmission have a more significant relationship with travel?"
   ]
  },
  {
   "cell_type": "markdown",
   "id": "secret-seller",
   "metadata": {},
   "source": [
    "# Questions for reviewer \n",
    "---\n",
    "- Can you provide any tips for determining proper modeling for my questions?"
   ]
  }
 ],
 "metadata": {
  "kernelspec": {
   "display_name": "Python 3",
   "language": "python",
   "name": "python3"
  },
  "language_info": {
   "codemirror_mode": {
    "name": "ipython",
    "version": 3
   },
   "file_extension": ".py",
   "mimetype": "text/x-python",
   "name": "python",
   "nbconvert_exporter": "python",
   "pygments_lexer": "ipython3",
   "version": "3.9.6"
  }
 },
 "nbformat": 4,
 "nbformat_minor": 5
}
